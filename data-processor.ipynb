{
 "cells": [
  {
   "cell_type": "markdown",
   "id": "ea58d994-5b37-4da4-af92-8d08164d7bf7",
   "metadata": {},
   "source": [
    "# Setup and Installation"
   ]
  },
  {
   "cell_type": "code",
   "execution_count": 1,
   "id": "88131e44-9322-44d6-9f24-1b5fbff9e25a",
   "metadata": {},
   "outputs": [],
   "source": [
    "import pandas as pd"
   ]
  },
  {
   "cell_type": "code",
   "execution_count": 2,
   "id": "675e1d3b-bfe1-4dba-b734-932dfbbaf4df",
   "metadata": {},
   "outputs": [
    {
     "name": "stdout",
     "output_type": "stream",
     "text": [
      "Positive train labels: 8851, \n",
      "Negative train labels: 9629,\n",
      "Positive test labels: 3042,\n",
      "Negative test labels: 1634\n"
     ]
    }
   ],
   "source": [
    "train_pos = pd.read_csv('data/positive10kUZ.csv')\n",
    "train_neg = pd.read_csv('data/negative10kUZ.csv')\n",
    "\n",
    "test_pos = pd.read_csv('data/UZ_positive.csv')\n",
    "test_neg = pd.read_csv('data/UZ_negative.csv')\n",
    "\n",
    "print(f\"Positive train labels: {len(train_pos)}, \\nNegative train labels: {len(train_neg)},\\nPositive test labels: {len(test_pos)},\\nNegative test labels: {len(test_neg)}\")"
   ]
  },
  {
   "cell_type": "markdown",
   "id": "00ec1bc4-09dd-437a-9035-5416ab157067",
   "metadata": {},
   "source": [
    "# Set labels"
   ]
  },
  {
   "cell_type": "code",
   "execution_count": 3,
   "id": "401ffd03-ead5-436d-8608-e4abadf6e27c",
   "metadata": {},
   "outputs": [
    {
     "data": {
      "text/plain": [
       "0    9629\n",
       "1    8851\n",
       "Name: label, dtype: int64"
      ]
     },
     "execution_count": 3,
     "metadata": {},
     "output_type": "execute_result"
    }
   ],
   "source": [
    "train_pos['label']=1\n",
    "train_neg['label']=0\n",
    "train_df=pd.concat([train_pos, train_neg])\n",
    "train_df.label.value_counts()"
   ]
  },
  {
   "cell_type": "code",
   "execution_count": 4,
   "id": "b8f76936-8be1-4098-a41e-e94a8d7f60a9",
   "metadata": {},
   "outputs": [
    {
     "data": {
      "text/plain": [
       "1    3042\n",
       "0    1634\n",
       "Name: label, dtype: int64"
      ]
     },
     "execution_count": 4,
     "metadata": {},
     "output_type": "execute_result"
    }
   ],
   "source": [
    "test_pos['label']=1\n",
    "test_neg['label']=0\n",
    "test_df=pd.concat([test_pos, test_neg])\n",
    "test_df.label.value_counts()"
   ]
  },
  {
   "cell_type": "code",
   "execution_count": 5,
   "id": "85c2c4ff-c9e9-4525-9937-077ff3d815e2",
   "metadata": {},
   "outputs": [
    {
     "data": {
      "text/plain": [
       "1    11893\n",
       "0    11263\n",
       "Name: label, dtype: int64"
      ]
     },
     "execution_count": 5,
     "metadata": {},
     "output_type": "execute_result"
    }
   ],
   "source": [
    "dataset=pd.concat([train_df, test_df])\n",
    "dataset['label'].value_counts()"
   ]
  },
  {
   "cell_type": "markdown",
   "id": "3444e70a-0833-49ae-bdb9-79350d96093a",
   "metadata": {},
   "source": [
    "# Shuffling data and splitting again"
   ]
  },
  {
   "cell_type": "code",
   "execution_count": 6,
   "id": "3c5c1731-03ce-4108-8c2e-12571ea28c7d",
   "metadata": {},
   "outputs": [
    {
     "data": {
      "text/plain": [
       "(20000, 3156)"
      ]
     },
     "execution_count": 6,
     "metadata": {},
     "output_type": "execute_result"
    }
   ],
   "source": [
    "dataset = dataset.sample(frac = 1).reset_index()\n",
    "dataset.drop('index', axis=1, inplace=True)\n",
    "train_df = dataset[:20000]\n",
    "test_df=dataset[20000:]\n",
    "len(train_df), len(test_df)"
   ]
  },
  {
   "cell_type": "code",
   "execution_count": 7,
   "id": "d9fc37eb-abab-42ca-8108-e1c60475e574",
   "metadata": {},
   "outputs": [
    {
     "data": {
      "text/plain": [
       "(0.5121, 0.5231305449936628)"
      ]
     },
     "execution_count": 7,
     "metadata": {},
     "output_type": "execute_result"
    }
   ],
   "source": [
    "train_df.label.mean(), test_df.label.mean()"
   ]
  },
  {
   "cell_type": "markdown",
   "id": "35a95cd4-6ad0-4cb8-ba37-15a9d3f37feb",
   "metadata": {},
   "source": [
    "# Returning as a ready dataset"
   ]
  },
  {
   "cell_type": "code",
   "execution_count": 8,
   "id": "c621bd8b-045b-4c1a-b0e0-232f9980d5a8",
   "metadata": {},
   "outputs": [],
   "source": [
    "train_df.to_csv('data/train.csv', index=False)\n",
    "test_df.to_csv('data/test.csv', index=False)"
   ]
  },
  {
   "cell_type": "code",
   "execution_count": null,
   "id": "950876d2-e8b5-4f99-b3fe-e18921a53884",
   "metadata": {},
   "outputs": [],
   "source": []
  }
 ],
 "metadata": {
  "kernelspec": {
   "display_name": "Python 3 (ipykernel)",
   "language": "python",
   "name": "python3"
  },
  "language_info": {
   "codemirror_mode": {
    "name": "ipython",
    "version": 3
   },
   "file_extension": ".py",
   "mimetype": "text/x-python",
   "name": "python",
   "nbconvert_exporter": "python",
   "pygments_lexer": "ipython3",
   "version": "3.9.13"
  }
 },
 "nbformat": 4,
 "nbformat_minor": 5
}
